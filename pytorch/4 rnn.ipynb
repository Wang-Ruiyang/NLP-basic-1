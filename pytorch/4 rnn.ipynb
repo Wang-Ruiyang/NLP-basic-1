{
 "cells": [
  {
   "cell_type": "code",
   "execution_count": 1,
   "metadata": {
    "collapsed": true
   },
   "outputs": [],
   "source": [
    "import torch\n",
    "import torch.nn as nn"
   ]
  },
  {
   "cell_type": "code",
   "execution_count": 2,
   "outputs": [
    {
     "name": "stdout",
     "output_type": "stream",
     "text": [
      "odict_keys(['weight_ih_l0', 'weight_hh_l0', 'bias_ih_l0', 'bias_hh_l0'])\n",
      "torch.Size([20, 100])\n",
      "torch.Size([20, 20])\n",
      "torch.Size([20])\n",
      "torch.Size([20])\n"
     ]
    }
   ],
   "source": [
    "rnn = nn.RNN(100,20)     # 定义input_size 和 hidden_size（100 指的是用一个长度为 100 的向量表示一个单词，20 指的是 hidden_size）\n",
    "\n",
    "print(rnn._parameters.keys())\n",
    "\n",
    "print(rnn.weight_ih_l0.shape)\n",
    "print(rnn.weight_hh_l0.shape)\n",
    "print(rnn.bias_ih_l0.shape)\n",
    "print(rnn.bias_hh_l0.shape)"
   ],
   "metadata": {
    "collapsed": false
   }
  },
  {
   "cell_type": "code",
   "execution_count": 2,
   "outputs": [],
   "source": [],
   "metadata": {
    "collapsed": false
   }
  },
  {
   "cell_type": "code",
   "execution_count": 3,
   "outputs": [
    {
     "name": "stdout",
     "output_type": "stream",
     "text": [
      "torch.Size([10, 3, 20])\n",
      "torch.Size([1, 3, 20])\n"
     ]
    }
   ],
   "source": [
    "import torch\n",
    "import torch.nn as nn\n",
    "\n",
    "rnn = nn.RNN(input_size=100, hidden_size=20, num_layers=1)\n",
    "x = torch.randn(10, 3, 100)\n",
    "out, h_t = rnn(x, torch.zeros(1, 3, 20))\n",
    "print(out.shape) # [10, 3, 20]\n",
    "print(h_t.shape) # [1, 3, 20]"
   ],
   "metadata": {
    "collapsed": false
   }
  },
  {
   "cell_type": "code",
   "execution_count": 3,
   "outputs": [],
   "source": [],
   "metadata": {
    "collapsed": false
   }
  },
  {
   "cell_type": "code",
   "execution_count": 4,
   "outputs": [
    {
     "name": "stdout",
     "output_type": "stream",
     "text": [
      "torch.Size([10, 3, 20])\n",
      "torch.Size([4, 3, 20])\n"
     ]
    }
   ],
   "source": [
    "import torch\n",
    "import torch.nn as nn\n",
    "\n",
    "rnn = nn.RNN(input_size=100, hidden_size=20, num_layers=4)\n",
    "x = torch.randn(10, 3, 100)\n",
    "out, h_t = rnn(x)\n",
    "print(out.shape)\n",
    "print(h_t.shape)"
   ],
   "metadata": {
    "collapsed": false
   }
  },
  {
   "cell_type": "code",
   "execution_count": 4,
   "outputs": [],
   "source": [],
   "metadata": {
    "collapsed": false
   }
  },
  {
   "cell_type": "code",
   "execution_count": 4,
   "outputs": [],
   "source": [],
   "metadata": {
    "collapsed": false
   }
  },
  {
   "cell_type": "code",
   "execution_count": 4,
   "outputs": [],
   "source": [],
   "metadata": {
    "collapsed": false
   }
  },
  {
   "cell_type": "code",
   "execution_count": 4,
   "outputs": [],
   "source": [],
   "metadata": {
    "collapsed": false
   }
  },
  {
   "cell_type": "code",
   "execution_count": 4,
   "outputs": [],
   "source": [],
   "metadata": {
    "collapsed": false
   }
  },
  {
   "cell_type": "code",
   "execution_count": 5,
   "outputs": [],
   "source": [
    "import torch\n",
    "import numpy as np\n",
    "import torch.nn as nn\n",
    "import torch.optim as optim\n",
    "import torch.utils.data as Data\n",
    "\n",
    "dtype = torch.FloatTensor"
   ],
   "metadata": {
    "collapsed": false
   }
  },
  {
   "cell_type": "code",
   "execution_count": 6,
   "outputs": [],
   "source": [
    "sentences = [\"i like dog\", \"i love coffee\", \"i hate milk\"]\n",
    "word_list = \" \".join(sentences).split()\n",
    "vocab = list(set(word_list))\n",
    "word2idx = {w:i for i, w in enumerate(vocab)}\n",
    "idx2word = {i:w for i, w in enumerate(vocab)}\n",
    "n_class = len(vocab)"
   ],
   "metadata": {
    "collapsed": false
   }
  },
  {
   "cell_type": "code",
   "execution_count": 7,
   "outputs": [
    {
     "data": {
      "text/plain": "{'hate': 0, 'milk': 1, 'dog': 2, 'i': 3, 'coffee': 4, 'like': 5, 'love': 6}"
     },
     "execution_count": 7,
     "metadata": {},
     "output_type": "execute_result"
    }
   ],
   "source": [
    "word2idx"
   ],
   "metadata": {
    "collapsed": false
   }
  },
  {
   "cell_type": "code",
   "execution_count": 8,
   "outputs": [
    {
     "data": {
      "text/plain": "['hate', 'milk', 'dog', 'i', 'coffee', 'like', 'love']"
     },
     "execution_count": 8,
     "metadata": {},
     "output_type": "execute_result"
    }
   ],
   "source": [
    "vocab"
   ],
   "metadata": {
    "collapsed": false
   }
  },
  {
   "cell_type": "code",
   "execution_count": 9,
   "outputs": [
    {
     "data": {
      "text/plain": "7"
     },
     "execution_count": 9,
     "metadata": {},
     "output_type": "execute_result"
    }
   ],
   "source": [
    "n_class"
   ],
   "metadata": {
    "collapsed": false
   }
  },
  {
   "cell_type": "code",
   "execution_count": 10,
   "outputs": [
    {
     "name": "stdout",
     "output_type": "stream",
     "text": [
      "[[0. 0. 0. 1. 0. 0. 0.]\n",
      " [0. 0. 0. 0. 0. 1. 0.]]\n",
      "[[0. 0. 0. 1. 0. 0. 0.]\n",
      " [0. 0. 0. 0. 0. 0. 1.]]\n",
      "[[0. 0. 0. 1. 0. 0. 0.]\n",
      " [1. 0. 0. 0. 0. 0. 0.]]\n",
      "[array([[0., 0., 0., 1., 0., 0., 0.],\n",
      "       [0., 0., 0., 0., 0., 1., 0.]]), array([[0., 0., 0., 1., 0., 0., 0.],\n",
      "       [0., 0., 0., 0., 0., 0., 1.]]), array([[0., 0., 0., 1., 0., 0., 0.],\n",
      "       [1., 0., 0., 0., 0., 0., 0.]])]\n",
      "[2, 4, 1]\n"
     ]
    }
   ],
   "source": [
    "input_batch = []\n",
    "target_batch = []\n",
    "\n",
    "for sen in sentences:\n",
    "    word = sen.split()\n",
    "    input = [word2idx[n] for n in word[:-1]]    # 除了最后一个单词，返回的是id\n",
    "    target = word2idx[word[-1]]       # 最后一个单词当作预测值，返回的是id\n",
    "    input_batch.append(np.eye(n_class)[input])\n",
    "    # print(input)\n",
    "    print(np.eye(n_class)[input])\n",
    "    target_batch.append(target)\n",
    "print(input_batch)\n",
    "print(target_batch)"
   ],
   "metadata": {
    "collapsed": false
   }
  },
  {
   "cell_type": "code",
   "execution_count": 10,
   "outputs": [],
   "source": [],
   "metadata": {
    "collapsed": false
   }
  },
  {
   "cell_type": "code",
   "execution_count": 11,
   "outputs": [
    {
     "name": "stdout",
     "output_type": "stream",
     "text": [
      "[(tensor([[0., 0., 0., 1., 0., 0., 0.],\n",
      "        [0., 0., 0., 0., 0., 1., 0.]]), tensor(2)), (tensor([[0., 0., 0., 1., 0., 0., 0.],\n",
      "        [0., 0., 0., 0., 0., 0., 1.]]), tensor(4)), (tensor([[0., 0., 0., 1., 0., 0., 0.],\n",
      "        [1., 0., 0., 0., 0., 0., 0.]]), tensor(1))]\n",
      "[[tensor([[[0., 0., 0., 1., 0., 0., 0.],\n",
      "         [1., 0., 0., 0., 0., 0., 0.]],\n",
      "\n",
      "        [[0., 0., 0., 1., 0., 0., 0.],\n",
      "         [0., 0., 0., 0., 0., 1., 0.]]]), tensor([1, 2])], [tensor([[[0., 0., 0., 1., 0., 0., 0.],\n",
      "         [0., 0., 0., 0., 0., 0., 1.]]]), tensor([4])]]\n"
     ]
    }
   ],
   "source": [
    "batch_size = 2\n",
    "n_step = 2\n",
    "n_hidden = 5\n",
    "\n",
    "def make_data(sentences):\n",
    "    input_batch = []\n",
    "    target_batch = []\n",
    "\n",
    "    for sen in sentences:\n",
    "        word = sen.split()\n",
    "        input = [word2idx[n] for n in word[:-1]]    # 除了最后一个单词\n",
    "        target = word2idx[word[-1]]       # 最后一个单词当作预测值\n",
    "        input_batch.append(np.eye(n_class)[input])     # np.eye，这里只有一个参数，表示行、列相等。对角线的地方为1，其余的地方为0。\n",
    "        target_batch.append(target)\n",
    "\n",
    "    return input_batch, target_batch\n",
    "\n",
    "input_batch, target_batch = make_data(sentences)\n",
    "\n",
    "# torch.FloatTensor是32位浮点类型数据，torch.LongTensor是64位整型\n",
    "input_batch = torch.Tensor(input_batch)\n",
    "target_batch = torch.LongTensor(target_batch)\n",
    "# print(input_batch)\n",
    "# print(target_batch)\n",
    "\n",
    "dataset = Data.TensorDataset(input_batch, target_batch)\n",
    "print(list(dataset))\n",
    "dataloader = Data.DataLoader(dataset, batch_size, True)\n",
    "print(list(dataloader))"
   ],
   "metadata": {
    "collapsed": false
   }
  },
  {
   "cell_type": "code",
   "execution_count": 11,
   "outputs": [],
   "source": [],
   "metadata": {
    "collapsed": false
   }
  },
  {
   "cell_type": "code",
   "execution_count": 12,
   "outputs": [],
   "source": [
    "class TextRNN(nn.Module):\n",
    "    def __init__(self):\n",
    "        super(TextRNN, self).__init__()\n",
    "        self.rnn = nn.RNN(input_size=n_class, hidden_size=n_hidden)\n",
    "        self.fc = nn.Linear(n_hidden, n_class)\n",
    "    def forward(self, hidden, X):\n",
    "        # 最初：输入的X为[batch_size, n_step, n_class]\n",
    "        X = X.transpose(0,1)     # np.transpose是替换轴，之后变成 [n_step, batch_size, n_class]\n",
    "        out, hidden = self.rnn(X, hidden)\n",
    "        out = out[-1]\n",
    "        model = self.fc(out)\n",
    "        return model\n",
    "\n",
    "model = TextRNN()\n",
    "criterion = nn.CrossEntropyLoss()\n",
    "optimizer = optim.Adam(model.parameters(), lr=0.001)"
   ],
   "metadata": {
    "collapsed": false
   }
  },
  {
   "cell_type": "code",
   "execution_count": 18,
   "outputs": [
    {
     "name": "stdout",
     "output_type": "stream",
     "text": [
      "Epoch: 1000 cost = 0.000000\n",
      "Epoch: 1000 cost = 0.000000\n",
      "Epoch: 2000 cost = 0.000000\n",
      "Epoch: 2000 cost = 0.000000\n",
      "Epoch: 3000 cost = 0.000000\n",
      "Epoch: 3000 cost = 0.000000\n",
      "Epoch: 4000 cost = 0.000000\n",
      "Epoch: 4000 cost = 0.000000\n",
      "Epoch: 5000 cost = 0.000000\n",
      "Epoch: 5000 cost = 0.000000\n"
     ]
    }
   ],
   "source": [
    "epoch = 5000\n",
    "\n",
    "for e in range(epoch):\n",
    "    for x, y in dataloader:\n",
    "        hidden = torch.zeros(1, x.shape[0], n_hidden)     # hidden : [num_layers * num_directions, batch, hidden_size]\n",
    "        pred = model(hidden, x)      # X : [batch_size, n_step, n_class]\n",
    "        loss = criterion(pred, y)\n",
    "        # if (e + 1) % 1000 == 0:\n",
    "        #     print('Epoch:', '%04d' % (e + 1), 'cost =', '{:.6f}'.format(loss))\n",
    "\n",
    "        optimizer.zero_grad()\n",
    "        loss.backward()\n",
    "        optimizer.step()"
   ],
   "metadata": {
    "collapsed": false
   }
  },
  {
   "cell_type": "code",
   "execution_count": 14,
   "outputs": [
    {
     "name": "stdout",
     "output_type": "stream",
     "text": [
      "[['i', 'like'], ['i', 'love'], ['i', 'hate']]\n"
     ]
    }
   ],
   "source": [
    "input = [sen.split()[:2] for sen in sentences]\n",
    "print(input)"
   ],
   "metadata": {
    "collapsed": false
   }
  },
  {
   "cell_type": "code",
   "execution_count": 15,
   "outputs": [
    {
     "name": "stdout",
     "output_type": "stream",
     "text": [
      "tensor([[[0., 0., 0., 0., 0.],\n",
      "         [0., 0., 0., 0., 0.],\n",
      "         [0., 0., 0., 0., 0.]]])\n",
      "tensor([[2],\n",
      "        [4],\n",
      "        [1]])\n",
      "[['i', 'like'], ['i', 'love'], ['i', 'hate']] -> ['dog', 'coffee', 'milk']\n"
     ]
    }
   ],
   "source": [
    "hidden = torch.zeros(1, len(input), n_hidden)\n",
    "print(hidden)\n",
    "predict = model(hidden, input_batch).data.max(1, keepdim=True)[1]\n",
    "print(predict)\n",
    "print([sen.split()[:2] for sen in sentences], '->', [idx2word[n.item()] for n in predict.squeeze()])"
   ],
   "metadata": {
    "collapsed": false
   }
  },
  {
   "cell_type": "code",
   "execution_count": 15,
   "outputs": [],
   "source": [],
   "metadata": {
    "collapsed": false
   }
  }
 ],
 "metadata": {
  "kernelspec": {
   "display_name": "Python 3",
   "language": "python",
   "name": "python3"
  },
  "language_info": {
   "codemirror_mode": {
    "name": "ipython",
    "version": 2
   },
   "file_extension": ".py",
   "mimetype": "text/x-python",
   "name": "python",
   "nbconvert_exporter": "python",
   "pygments_lexer": "ipython2",
   "version": "2.7.6"
  }
 },
 "nbformat": 4,
 "nbformat_minor": 0
}
